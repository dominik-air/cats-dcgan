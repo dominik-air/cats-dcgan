{
 "cells": [
  {
   "cell_type": "code",
   "execution_count": null,
   "metadata": {
    "ExecuteTime": {
     "end_time": "2023-01-09T13:41:53.364349Z",
     "start_time": "2023-01-09T13:41:52.678996Z"
    }
   },
   "outputs": [],
   "source": [
    "import sagemaker\n",
    "from sagemaker import get_execution_role\n",
    "\n",
    "sagemaker_session = sagemaker.Session()\n",
    "\n",
    "role = get_execution_role()\n",
    "region = sagemaker_session.boto_session.region_name"
   ]
  },
  {
   "cell_type": "code",
   "execution_count": null,
   "metadata": {
    "ExecuteTime": {
     "end_time": "2023-01-09T14:06:34.855382Z",
     "start_time": "2023-01-09T13:41:53.662354Z"
    }
   },
   "outputs": [],
   "source": [
    "from sagemaker.tensorflow import TensorFlow\n",
    "\n",
    "training_data_uri = \"s3://...\"\n",
    "distributions = {\"mpi\": {\"enabled\": True, \"custom_mpi_options\": \"-verbose --NCCL_DEBUG=INFO\"}}\n",
    "\n",
    "estimator = TensorFlow(\n",
    "    entry_point='train-hvd.py',\n",
    "    role=role,\n",
    "    instance_count=4,\n",
    "    instance_type=\"ml.g5.12xlarge\",\n",
    "    hyperparameters={\"epochs\": 160},\n",
    "    framework_version=\"2.9\",\n",
    "    py_version=\"py39\",\n",
    "    distribution=distributions,\n",
    "    base_job_name=\"hvd-keras-test\",\n",
    "    output_path=\"s3://...\",\n",
    "    code_location=\"s3://...\",\n",
    ")\n",
    "estimator.fit(training_data_uri)"
   ]
  }
 ],
 "metadata": {
  "kernelspec": {
   "display_name": "Python3.9",
   "language": "python",
   "name": "python3.9"
  },
  "language_info": {
   "codemirror_mode": {
    "name": "ipython",
    "version": 3
   },
   "file_extension": ".py",
   "mimetype": "text/x-python",
   "name": "python",
   "nbconvert_exporter": "python",
   "pygments_lexer": "ipython3",
   "version": "3.9.15"
  },
  "toc": {
   "base_numbering": 1,
   "nav_menu": {},
   "number_sections": false,
   "sideBar": true,
   "skip_h1_title": false,
   "title_cell": "Table of Contents",
   "title_sidebar": "Contents",
   "toc_cell": false,
   "toc_position": {},
   "toc_section_display": true,
   "toc_window_display": false
  }
 },
 "nbformat": 4,
 "nbformat_minor": 4
}
